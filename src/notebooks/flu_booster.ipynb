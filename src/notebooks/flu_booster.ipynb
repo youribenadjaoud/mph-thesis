{
 "cells": [
  {
   "cell_type": "markdown",
   "metadata": {},
   "source": [
    "## Flu and Variant-Specific Booster Uptake\n",
    "\n",
    "In this notebook, we the avaialability of flu clinics and compare it COVID variant-specific booster uptake. "
   ]
  },
  {
   "cell_type": "code",
   "execution_count": null,
   "metadata": {},
   "outputs": [],
   "source": [
    "import pandas as pd\n",
    "import numpy as np\n",
    "import seaborn as sns\n",
    "import matplotlib.pyplot as plt"
   ]
  },
  {
   "cell_type": "code",
   "execution_count": null,
   "metadata": {},
   "outputs": [],
   "source": [
    "## HAWAII EXCLUDED DUE TO LACK OF BOOSTER DATA\n",
    "\n",
    "state_list = [\n",
    "    \"AL\",\n",
    "    \"AK\",\n",
    "    \"AZ\",\n",
    "    \"AR\",\n",
    "    \"CA\",\n",
    "    \"CO\",\n",
    "    \"CT\",\n",
    "    \"DE\",\n",
    "    \"FL\",\n",
    "    \"GA\",\n",
    "    # \"HI\",\n",
    "    \"ID\",\n",
    "    \"IL\",\n",
    "    \"IN\",\n",
    "    \"IA\",\n",
    "    \"KS\",\n",
    "    \"KY\",\n",
    "    \"LA\",\n",
    "    \"ME\",\n",
    "    \"MD\",\n",
    "    \"MA\",\n",
    "    \"MI\",\n",
    "    \"MN\",\n",
    "    \"MS\",\n",
    "    \"MO\",\n",
    "    \"MT\",\n",
    "    \"NE\",\n",
    "    \"NV\",\n",
    "    \"NH\",\n",
    "    \"NJ\",\n",
    "    \"NM\",\n",
    "    \"NY\",\n",
    "    \"NC\",\n",
    "    \"ND\",\n",
    "    \"OH\",\n",
    "    \"OK\",\n",
    "    \"OR\",\n",
    "    \"PA\",\n",
    "    \"RI\",\n",
    "    \"SC\",\n",
    "    \"SD\",\n",
    "    \"TN\",\n",
    "    \"TX\",\n",
    "    \"UT\",\n",
    "    \"VT\",\n",
    "    \"VA\",\n",
    "    \"WA\",\n",
    "    \"WV\",\n",
    "    \"WI\",\n",
    "    \"WY\",\n",
    "]"
   ]
  },
  {
   "cell_type": "markdown",
   "metadata": {},
   "source": [
    "#### Cleaning and filtering COVID vaccine uptake dataset"
   ]
  },
  {
   "cell_type": "code",
   "execution_count": null,
   "metadata": {},
   "outputs": [],
   "source": [
    "## Import CDC COVID vaccine data\n",
    "\n",
    "col_list_covid = [\"Date\", \"Recip_State\", \"Booster_Doses\", \"Census2019\", \"FIPS\"]\n",
    "df_covid_raw = pd.read_csv(\n",
    "    \"../../data/cdc/COVID-19_Vaccinations_in_the_United_States_County.csv\",\n",
    "    usecols=col_list_covid,\n",
    ")"
   ]
  },
  {
   "cell_type": "code",
   "execution_count": null,
   "metadata": {},
   "outputs": [],
   "source": [
    "df_covid_raw[\"FIPS\"] = pd.to_numeric(df_covid_raw[\"FIPS\"], errors=\"coerce\")"
   ]
  },
  {
   "cell_type": "code",
   "execution_count": null,
   "metadata": {},
   "outputs": [],
   "source": [
    "## Rename columns\n",
    "\n",
    "col_names_covid = {\n",
    "    \"Recip_State\": \"State\",\n",
    "    \"Booster_Doses\": \"Booster\",\n",
    "    \"Census2019\": \"Population\",\n",
    "    \"FIPS\": \"FIPS\",\n",
    "}\n",
    "\n",
    "df_covid_raw.rename(columns=col_names_covid, inplace=True)"
   ]
  },
  {
   "cell_type": "code",
   "execution_count": null,
   "metadata": {},
   "outputs": [],
   "source": [
    "## Filter to most recent data\n",
    "\n",
    "df_covid_date = df_covid_raw.loc[df_covid_raw.Date == \"09/28/2022\"]"
   ]
  },
  {
   "cell_type": "code",
   "execution_count": null,
   "metadata": {},
   "outputs": [],
   "source": [
    "df_covid_date"
   ]
  },
  {
   "cell_type": "code",
   "execution_count": null,
   "metadata": {},
   "outputs": [],
   "source": [
    "## Group by states and sum raw booster and population values\n",
    "\n",
    "df_covid_agg = df_covid_date.groupby(\"FIPS\", as_index=False).agg(\n",
    "    {\"State\": \"first\", \"Booster\": \"sum\", \"Population\": \"sum\"}\n",
    ")"
   ]
  },
  {
   "cell_type": "code",
   "execution_count": null,
   "metadata": {},
   "outputs": [],
   "source": [
    "## Calculate proportion of population with booster shot\n",
    "### May want to consider using eligible population rather than total population\n",
    "\n",
    "df_covid_agg[\"Boosted_Pct\"] = df_covid_agg.Booster.div(\n",
    "    df_covid_agg.Population\n",
    ").multiply(100)"
   ]
  },
  {
   "cell_type": "code",
   "execution_count": null,
   "metadata": {},
   "outputs": [],
   "source": [
    "df_covid_graph = df_covid_date.groupby(\"State\", as_index=False).agg(\n",
    "    {\"Booster\": \"sum\", \"Population\": \"sum\"}\n",
    ")\n",
    "\n",
    "df_covid_graph[\"Boosted_Pct\"] = df_covid_graph.Booster.div(\n",
    "    df_covid_graph.Population\n",
    ").multiply(100)"
   ]
  },
  {
   "cell_type": "code",
   "execution_count": null,
   "metadata": {},
   "outputs": [],
   "source": [
    "df_covid_graph_final = df_covid_graph.loc[df_covid_graph.State.isin(state_list)]"
   ]
  },
  {
   "cell_type": "code",
   "execution_count": null,
   "metadata": {},
   "outputs": [],
   "source": [
    "import matplotlib.ticker as mtick\n",
    "\n",
    "fig, ax = plt.subplots(figsize=(10, 10), dpi=100)\n",
    "\n",
    "sns.barplot(\n",
    "    data=df_covid_graph_final,\n",
    "    x=\"Boosted_Pct\",\n",
    "    y=\"State\",\n",
    "    order=df_covid_graph_final.sort_values(\"Boosted_Pct\", ascending=False).State,\n",
    "    color=\"Teal\",\n",
    ")\n",
    "\n",
    "ax.set(ylabel=\"State\", xlabel=\"Percentage of population with booster\")\n",
    "ax.xaxis.set_major_formatter(mtick.PercentFormatter())\n",
    "for container in ax.containers:\n",
    "    ax.bar_label(container, fmt=\"%.f%%\")"
   ]
  },
  {
   "cell_type": "markdown",
   "metadata": {},
   "source": [
    "#### Cleaning and filtering flu locations dataset"
   ]
  },
  {
   "cell_type": "code",
   "execution_count": null,
   "metadata": {},
   "outputs": [],
   "source": [
    "## Import Vaccine.gov flu shot location data\n",
    "\n",
    "col_list = [\n",
    "    \"provider_location_guid\",\n",
    "    \"loc_admin_state\",\n",
    "    \"loc_admin_zip\",\n",
    "]\n",
    "df_flu_raw = pd.read_csv(\n",
    "    \"../../data/cdc/Vaccines.gov__Flu_vaccinating_provider_locations.csv\",\n",
    "    usecols=col_list,\n",
    ")"
   ]
  },
  {
   "cell_type": "code",
   "execution_count": null,
   "metadata": {},
   "outputs": [],
   "source": [
    "## Rename columns\n",
    "\n",
    "col_names_flu = {\n",
    "    \"provider_location_guid\": \"ID\",\n",
    "    \"loc_admin_state\": \"State\",\n",
    "    \"loc_admin_zip\": \"Zip\",\n",
    "}\n",
    "\n",
    "df_flu_raw.rename(columns=col_names_flu, inplace=True)"
   ]
  },
  {
   "cell_type": "code",
   "execution_count": null,
   "metadata": {},
   "outputs": [],
   "source": [
    "df_flu_raw[\"Zip\"] = df_flu_raw[\"Zip\"].str.split(\"-\").str[0]"
   ]
  },
  {
   "cell_type": "code",
   "execution_count": null,
   "metadata": {},
   "outputs": [],
   "source": [
    "df_flu_raw[\"Zip\"] = pd.to_numeric(df_flu_raw[\"Zip\"], errors=\"coerce\")"
   ]
  },
  {
   "cell_type": "code",
   "execution_count": null,
   "metadata": {},
   "outputs": [],
   "source": [
    "## Drop duplicate values\n",
    "\n",
    "df_flu_raw = df_flu_raw.drop_duplicates(subset=[\"ID\"])"
   ]
  },
  {
   "cell_type": "code",
   "execution_count": null,
   "metadata": {},
   "outputs": [],
   "source": [
    "df_flu_raw"
   ]
  },
  {
   "cell_type": "markdown",
   "metadata": {},
   "source": [
    "#### Add crosswalk file"
   ]
  },
  {
   "cell_type": "code",
   "execution_count": null,
   "metadata": {},
   "outputs": [],
   "source": [
    "col_list = [\n",
    "    \"zip\",\n",
    "    \"county\",\n",
    "]\n",
    "df_cross = pd.read_csv(\n",
    "    \"../../data/census/ZIP_COUNTY_122021.csv\",\n",
    "    usecols=col_list,\n",
    ")"
   ]
  },
  {
   "cell_type": "code",
   "execution_count": null,
   "metadata": {},
   "outputs": [],
   "source": [
    "## Rename columns\n",
    "\n",
    "col_names_cross = {\n",
    "    \"zip\": \"Zip\",\n",
    "    \"county\": \"FIPS\",\n",
    "}\n",
    "\n",
    "df_cross.rename(columns=col_names_cross, inplace=True)"
   ]
  },
  {
   "cell_type": "code",
   "execution_count": null,
   "metadata": {},
   "outputs": [],
   "source": [
    "df_cross.head(1)"
   ]
  },
  {
   "cell_type": "code",
   "execution_count": null,
   "metadata": {},
   "outputs": [],
   "source": [
    "crosswalk = {k: g[\"FIPS\"].tolist() for k, g in df_cross.groupby(\"Zip\")}"
   ]
  },
  {
   "cell_type": "code",
   "execution_count": null,
   "metadata": {},
   "outputs": [],
   "source": [
    "df_flu_raw.replace({\"Zip\": crosswalk}, inplace=True)"
   ]
  },
  {
   "cell_type": "code",
   "execution_count": null,
   "metadata": {},
   "outputs": [],
   "source": [
    "df_flu_final = df_flu_raw.copy()\n",
    "\n",
    "col_names_flu_final = {\n",
    "    \"Zip\": \"FIPS\",\n",
    "}\n",
    "\n",
    "df_flu_final.rename(columns=col_names_flu_final, inplace=True)"
   ]
  },
  {
   "cell_type": "code",
   "execution_count": null,
   "metadata": {},
   "outputs": [],
   "source": [
    "df_flu_final"
   ]
  },
  {
   "cell_type": "code",
   "execution_count": null,
   "metadata": {},
   "outputs": [],
   "source": [
    "## Count number of flu shot locations\n",
    "\n",
    "df_flu_agg = df_flu_final.groupby(\"FIPS\", as_index=False).agg(\n",
    "    {\"State\": \"first\", \"ID\": \"count\"}\n",
    ")"
   ]
  },
  {
   "cell_type": "code",
   "execution_count": null,
   "metadata": {},
   "outputs": [],
   "source": [
    "df_flu_agg"
   ]
  },
  {
   "cell_type": "markdown",
   "metadata": {},
   "source": [
    "#### Analyze flu and booster interaction"
   ]
  },
  {
   "cell_type": "code",
   "execution_count": null,
   "metadata": {},
   "outputs": [],
   "source": [
    "## Combine COVID vaccine dataset and flu shot locations dataset\n",
    "\n",
    "df_final = pd.concat([df_covid_agg, df_flu_agg.ID], axis=1)"
   ]
  },
  {
   "cell_type": "code",
   "execution_count": null,
   "metadata": {},
   "outputs": [],
   "source": [
    "df_final"
   ]
  },
  {
   "cell_type": "code",
   "execution_count": null,
   "metadata": {},
   "outputs": [],
   "source": [
    "fig, ax = plt.subplots(figsize=(10, 5), dpi=100)\n",
    "\n",
    "sns.regplot(data=df_final, x=\"ID\", y=\"Boosted_Pct\", y_partial=None)\n",
    "\n",
    "ax.set(xlabel=\"Number of flu clinics\", ylabel=\"Percentage of state with booster\")\n",
    "ax.set(title=\"Relationship between number of flu clinics and booster uptake\")"
   ]
  },
  {
   "cell_type": "markdown",
   "metadata": {},
   "source": [
    "#### Analyze potential confounding variables"
   ]
  },
  {
   "cell_type": "code",
   "execution_count": null,
   "metadata": {},
   "outputs": [],
   "source": [
    "## Import political election results\n",
    "\n",
    "col_list_voting = [\n",
    "    \"year\",\n",
    "    \"state_po\",\n",
    "    \"candidatevotes\",\n",
    "    \"totalvotes\",\n",
    "    \"party_simplified\",\n",
    "]\n",
    "df_voting_raw = pd.read_csv(\n",
    "    \"../../data/politics/1976-2020-president.csv\",\n",
    "    usecols=col_list_voting,\n",
    ")"
   ]
  },
  {
   "cell_type": "code",
   "execution_count": null,
   "metadata": {},
   "outputs": [],
   "source": [
    "## Rename columns\n",
    "\n",
    "col_names_voting = {\n",
    "    \"year\": \"Year\",\n",
    "    \"state_po\": \"State\",\n",
    "    \"candidatevotes\": \"Candidate Votes\",\n",
    "    \"totalvotes\": \"Total Votes\",\n",
    "    \"party_simplified\": \"Party\",\n",
    "}\n",
    "\n",
    "df_voting_raw.rename(columns=col_names_voting, inplace=True)"
   ]
  },
  {
   "cell_type": "code",
   "execution_count": null,
   "metadata": {},
   "outputs": [],
   "source": [
    "df_voting_date = df_voting_raw.loc[df_voting_raw.Year == 2020]"
   ]
  },
  {
   "cell_type": "code",
   "execution_count": null,
   "metadata": {},
   "outputs": [],
   "source": [
    "party_list = [\"DEMOCRAT\"]"
   ]
  },
  {
   "cell_type": "code",
   "execution_count": null,
   "metadata": {},
   "outputs": [],
   "source": [
    "df_voting_party = df_voting_date.loc[df_voting_date.Party.isin(party_list)]"
   ]
  },
  {
   "cell_type": "code",
   "execution_count": null,
   "metadata": {},
   "outputs": [],
   "source": [
    "df_voting_state = df_voting_party.loc[\n",
    "    df_voting_party.State.isin(state_list)\n",
    "].reset_index()"
   ]
  },
  {
   "cell_type": "code",
   "execution_count": null,
   "metadata": {},
   "outputs": [],
   "source": [
    "df_voting_state[\"Vote_Pct\"] = (\n",
    "    df_voting_state[\"Candidate Votes\"].div(df_voting_state[\"Total Votes\"]).multiply(100)\n",
    ")"
   ]
  },
  {
   "cell_type": "code",
   "execution_count": null,
   "metadata": {},
   "outputs": [],
   "source": [
    "df_final_one = pd.DataFrame.merge(df_final, df_voting_state, on=\"State\")"
   ]
  },
  {
   "cell_type": "code",
   "execution_count": null,
   "metadata": {},
   "outputs": [],
   "source": [
    "df_final_one.head()"
   ]
  },
  {
   "cell_type": "code",
   "execution_count": null,
   "metadata": {},
   "outputs": [],
   "source": [
    "fig, ax = plt.subplots(figsize=(10, 5), dpi=100)\n",
    "\n",
    "sns.regplot(\n",
    "    data=df_final_one, x=\"ID\", y=\"Boosted_Pct\", y_partial=\"Vote_Pct\", color=\"Teal\"\n",
    ")\n",
    "\n",
    "ax.set(xlabel=\"Number of flu clinics\", ylabel=\"Percentage of county with booster\")"
   ]
  },
  {
   "cell_type": "code",
   "execution_count": null,
   "metadata": {},
   "outputs": [],
   "source": [
    "import statsmodels.formula.api as sm\n",
    "\n",
    "result = sm.ols(formula=\"Boosted_Pct ~ ID + Vote_Pct\", data=df_final_one).fit()\n",
    "\n",
    "print(result.summary())"
   ]
  },
  {
   "cell_type": "code",
   "execution_count": null,
   "metadata": {},
   "outputs": [],
   "source": []
  }
 ],
 "metadata": {
  "interpreter": {
   "hash": "6cbf73e685a52eac5e5c473d0f0fad89efb65967ab4e283e096e7b98d617b5a7"
  },
  "kernelspec": {
   "display_name": "Python 3.9.7 ('mph-thesis-ycUuKcbU-py3.9')",
   "language": "python",
   "name": "python3"
  },
  "language_info": {
   "codemirror_mode": {
    "name": "ipython",
    "version": 3
   },
   "file_extension": ".py",
   "mimetype": "text/x-python",
   "name": "python",
   "nbconvert_exporter": "python",
   "pygments_lexer": "ipython3",
   "version": "3.9.7"
  },
  "orig_nbformat": 4
 },
 "nbformat": 4,
 "nbformat_minor": 2
}
