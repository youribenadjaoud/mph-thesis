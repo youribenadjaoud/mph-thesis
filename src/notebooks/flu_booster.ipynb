{
 "cells": [
  {
   "cell_type": "markdown",
   "metadata": {},
   "source": [
    "## Flu and Variant-Specific Booster Uptake\n",
    "\n",
    "In this notebook, we the avaialability of flu clinics and compare it COVID variant-specific booster uptake. "
   ]
  },
  {
   "cell_type": "code",
   "execution_count": 48,
   "metadata": {},
   "outputs": [],
   "source": [
    "import pandas as pd\n",
    "import numpy as np\n",
    "import seaborn as sns\n",
    "import matplotlib.pyplot as plt"
   ]
  },
  {
   "cell_type": "code",
   "execution_count": 49,
   "metadata": {},
   "outputs": [],
   "source": [
    "## HAWAII EXCLUDED DUE TO LACK OF BOOSTER DATA\n",
    "\n",
    "state_list = [\n",
    "    \"AL\",\n",
    "    \"AK\",\n",
    "    \"AZ\",\n",
    "    \"AR\",\n",
    "    \"CA\",\n",
    "    \"CO\",\n",
    "    \"CT\",\n",
    "    \"DE\",\n",
    "    \"FL\",\n",
    "    \"GA\",\n",
    "    # \"HI\",\n",
    "    \"ID\",\n",
    "    \"IL\",\n",
    "    \"IN\",\n",
    "    \"IA\",\n",
    "    \"KS\",\n",
    "    \"KY\",\n",
    "    \"LA\",\n",
    "    \"ME\",\n",
    "    \"MD\",\n",
    "    \"MA\",\n",
    "    \"MI\",\n",
    "    \"MN\",\n",
    "    \"MS\",\n",
    "    \"MO\",\n",
    "    \"MT\",\n",
    "    \"NE\",\n",
    "    \"NV\",\n",
    "    \"NH\",\n",
    "    \"NJ\",\n",
    "    \"NM\",\n",
    "    \"NY\",\n",
    "    \"NC\",\n",
    "    \"ND\",\n",
    "    \"OH\",\n",
    "    \"OK\",\n",
    "    \"OR\",\n",
    "    \"PA\",\n",
    "    \"RI\",\n",
    "    \"SC\",\n",
    "    \"SD\",\n",
    "    \"TN\",\n",
    "    \"TX\",\n",
    "    \"UT\",\n",
    "    \"VT\",\n",
    "    \"VA\",\n",
    "    \"WA\",\n",
    "    \"WV\",\n",
    "    \"WI\",\n",
    "    \"WY\",\n",
    "]"
   ]
  },
  {
   "cell_type": "markdown",
   "metadata": {},
   "source": [
    "#### Cleaning and filtering COVID vaccine uptake dataset"
   ]
  },
  {
   "cell_type": "code",
   "execution_count": 50,
   "metadata": {},
   "outputs": [],
   "source": [
    "## Import CDC COVID vaccine data\n",
    "\n",
    "col_list_covid = [\"Date\", \"Recip_State\", \"Booster_Doses\", \"Census2019\"]\n",
    "df_covid_raw = pd.read_csv(\n",
    "    \"../../data/cdc/COVID-19_Vaccinations_in_the_United_States_County.csv\",\n",
    "    usecols=col_list_covid,\n",
    ")"
   ]
  },
  {
   "cell_type": "code",
   "execution_count": 51,
   "metadata": {},
   "outputs": [],
   "source": [
    "## Rename columns\n",
    "\n",
    "col_names_covid = {\n",
    "    \"Recip_State\": \"State\",\n",
    "    \"Booster_Doses\": \"Booster\",\n",
    "    \"Census2019\": \"Population\",\n",
    "}\n",
    "\n",
    "df_covid_raw.rename(columns=col_names_covid, inplace=True)"
   ]
  },
  {
   "cell_type": "code",
   "execution_count": 52,
   "metadata": {},
   "outputs": [],
   "source": [
    "## Filter to most recent data\n",
    "\n",
    "df_covid_date = df_covid_raw.loc[df_covid_raw.Date == \"09/28/2022\"]"
   ]
  },
  {
   "cell_type": "code",
   "execution_count": 53,
   "metadata": {},
   "outputs": [],
   "source": [
    "## Filter to 50 states\n",
    "\n",
    "df_covid_state = df_covid_date.loc[df_covid_date.State.isin(state_list)]"
   ]
  },
  {
   "cell_type": "code",
   "execution_count": 54,
   "metadata": {},
   "outputs": [],
   "source": [
    "## Group by states and sum raw booster and population values\n",
    "\n",
    "df_covid_agg = df_covid_state.groupby(\"State\", as_index=False).agg(\n",
    "    {\"Booster\": \"sum\", \"Population\": \"sum\"}\n",
    ")"
   ]
  },
  {
   "cell_type": "code",
   "execution_count": 55,
   "metadata": {},
   "outputs": [],
   "source": [
    "## Calculate proportion of population with booster shot\n",
    "### May want to consider using eligible population rather than total population\n",
    "\n",
    "df_covid_agg[\"Boosted_Pct\"] = df_covid_agg.Booster.div(\n",
    "    df_covid_agg.Population\n",
    ").multiply(100)"
   ]
  },
  {
   "cell_type": "markdown",
   "metadata": {},
   "source": [
    "#### Cleaning and filtering flu locations dataset"
   ]
  },
  {
   "cell_type": "code",
   "execution_count": 56,
   "metadata": {},
   "outputs": [],
   "source": [
    "## Import Vaccine.gov flu shot location data\n",
    "\n",
    "col_list = [\n",
    "    \"provider_location_guid\",\n",
    "    \"loc_admin_street1\",\n",
    "    \"loc_admin_city\",\n",
    "    \"loc_admin_state\",\n",
    "    \"loc_admin_zip\",\n",
    "]\n",
    "df_flu_raw = pd.read_csv(\n",
    "    \"../../data/cdc/Vaccines.gov__Flu_vaccinating_provider_locations.csv\",\n",
    "    usecols=col_list,\n",
    ")"
   ]
  },
  {
   "cell_type": "code",
   "execution_count": 57,
   "metadata": {},
   "outputs": [],
   "source": [
    "## Rename columns\n",
    "\n",
    "col_names_flu = {\n",
    "    \"provider_location_guid\": \"ID\",\n",
    "    \"loc_admin_street1\": \"Street\",\n",
    "    \"loc_admin_city\": \"City\",\n",
    "    \"loc_admin_state\": \"State\",\n",
    "    \"loc_admin_zip\": \"Zip\",\n",
    "}\n",
    "\n",
    "df_flu_raw.rename(columns=col_names_flu, inplace=True)"
   ]
  },
  {
   "cell_type": "code",
   "execution_count": 58,
   "metadata": {},
   "outputs": [],
   "source": [
    "df_flu_raw[\"Zip\"] = df_flu_raw[\"Zip\"].str.split(\"-\").str[0]"
   ]
  },
  {
   "cell_type": "code",
   "execution_count": 59,
   "metadata": {},
   "outputs": [],
   "source": [
    "## Filter to 50 states\n",
    "\n",
    "df_flu_state = df_flu_raw.loc[df_flu_raw.State.isin(state_list)]"
   ]
  },
  {
   "cell_type": "code",
   "execution_count": 60,
   "metadata": {},
   "outputs": [],
   "source": [
    "## Drop duplicate values\n",
    "\n",
    "df_flu_dedup = df_flu_state.drop_duplicates(subset=[\"ID\"])"
   ]
  },
  {
   "cell_type": "code",
   "execution_count": 61,
   "metadata": {},
   "outputs": [],
   "source": [
    "## Count number of flu shot locations\n",
    "\n",
    "df_flu_agg = df_flu_dedup.groupby(\"State\", as_index=False).agg({\"ID\": \"count\"})"
   ]
  },
  {
   "cell_type": "markdown",
   "metadata": {},
   "source": [
    "#### Analyze flu and booster interaction"
   ]
  },
  {
   "cell_type": "code",
   "execution_count": 62,
   "metadata": {},
   "outputs": [],
   "source": [
    "## Combine COVID vaccine dataset and flu shot locations dataset\n",
    "\n",
    "df_final = pd.concat([df_covid_agg, df_flu_agg.ID], axis=1)"
   ]
  },
  {
   "cell_type": "code",
   "execution_count": 63,
   "metadata": {},
   "outputs": [
    {
     "data": {
      "text/html": [
       "<div>\n",
       "<style scoped>\n",
       "    .dataframe tbody tr th:only-of-type {\n",
       "        vertical-align: middle;\n",
       "    }\n",
       "\n",
       "    .dataframe tbody tr th {\n",
       "        vertical-align: top;\n",
       "    }\n",
       "\n",
       "    .dataframe thead th {\n",
       "        text-align: right;\n",
       "    }\n",
       "</style>\n",
       "<table border=\"1\" class=\"dataframe\">\n",
       "  <thead>\n",
       "    <tr style=\"text-align: right;\">\n",
       "      <th></th>\n",
       "      <th>State</th>\n",
       "      <th>Booster</th>\n",
       "      <th>Population</th>\n",
       "      <th>Boosted_Pct</th>\n",
       "      <th>ID</th>\n",
       "    </tr>\n",
       "  </thead>\n",
       "  <tbody>\n",
       "    <tr>\n",
       "      <th>0</th>\n",
       "      <td>AK</td>\n",
       "      <td>220577.0</td>\n",
       "      <td>731545.0</td>\n",
       "      <td>30.152212</td>\n",
       "      <td>60</td>\n",
       "    </tr>\n",
       "    <tr>\n",
       "      <th>1</th>\n",
       "      <td>AL</td>\n",
       "      <td>976959.0</td>\n",
       "      <td>4903185.0</td>\n",
       "      <td>19.924988</td>\n",
       "      <td>563</td>\n",
       "    </tr>\n",
       "    <tr>\n",
       "      <th>2</th>\n",
       "      <td>AR</td>\n",
       "      <td>713343.0</td>\n",
       "      <td>3017804.0</td>\n",
       "      <td>23.637817</td>\n",
       "      <td>256</td>\n",
       "    </tr>\n",
       "    <tr>\n",
       "      <th>3</th>\n",
       "      <td>AZ</td>\n",
       "      <td>2101781.0</td>\n",
       "      <td>7278717.0</td>\n",
       "      <td>28.875707</td>\n",
       "      <td>819</td>\n",
       "    </tr>\n",
       "    <tr>\n",
       "      <th>4</th>\n",
       "      <td>CA</td>\n",
       "      <td>16352202.0</td>\n",
       "      <td>39512223.0</td>\n",
       "      <td>41.385173</td>\n",
       "      <td>2615</td>\n",
       "    </tr>\n",
       "  </tbody>\n",
       "</table>\n",
       "</div>"
      ],
      "text/plain": [
       "  State     Booster  Population  Boosted_Pct    ID\n",
       "0    AK    220577.0    731545.0    30.152212    60\n",
       "1    AL    976959.0   4903185.0    19.924988   563\n",
       "2    AR    713343.0   3017804.0    23.637817   256\n",
       "3    AZ   2101781.0   7278717.0    28.875707   819\n",
       "4    CA  16352202.0  39512223.0    41.385173  2615"
      ]
     },
     "execution_count": 63,
     "metadata": {},
     "output_type": "execute_result"
    }
   ],
   "source": [
    "df_final.head()"
   ]
  },
  {
   "cell_type": "code",
   "execution_count": 64,
   "metadata": {},
   "outputs": [
    {
     "data": {
      "text/plain": [
       "[Text(0.5, 1.0, 'Relationship between number of flu clinics and booster uptake')]"
      ]
     },
     "execution_count": 64,
     "metadata": {},
     "output_type": "execute_result"
    },
    {
     "data": {
      "image/png": "[encoded data removed]",
      "text/plain": [
       "<Figure size 1000x500 with 1 Axes>"
      ]
     },
     "metadata": {},
     "output_type": "display_data"
    }
   ],
   "source": [
    "fig, ax = plt.subplots(figsize=(10, 5), dpi=100)\n",
    "\n",
    "sns.regplot(\n",
    "    data=df_final,\n",
    "    x=\"ID\",\n",
    "    y=\"Boosted_Pct\",\n",
    "    # y_partial=\n",
    ")\n",
    "\n",
    "ax.set(xlabel=\"Number of flu clinics\", ylabel=\"Percentage of state with booster\")\n",
    "ax.set(title=\"Relationship between number of flu clinics and booster uptake\")"
   ]
  },
  {
   "cell_type": "markdown",
   "metadata": {},
   "source": [
    "#### Analyze potential confounding variables"
   ]
  },
  {
   "cell_type": "code",
   "execution_count": 65,
   "metadata": {},
   "outputs": [],
   "source": [
    "## Import political election results\n",
    "\n",
    "col_list_voting = [\n",
    "    \"year\",\n",
    "    \"state_po\",\n",
    "    \"candidatevotes\",\n",
    "    \"totalvotes\",\n",
    "    \"party_simplified\",\n",
    "]\n",
    "df_voting_raw = pd.read_csv(\n",
    "    \"../../data/politics/1976-2020-president.csv\",\n",
    "    usecols=col_list_voting,\n",
    ")"
   ]
  },
  {
   "cell_type": "code",
   "execution_count": 66,
   "metadata": {},
   "outputs": [],
   "source": [
    "## Rename columns\n",
    "\n",
    "col_names_voting = {\n",
    "    \"year\": \"Year\",\n",
    "    \"state_po\": \"State\",\n",
    "    \"candidatevotes\": \"Candidate Votes\",\n",
    "    \"totalvotes\": \"Total Votes\",\n",
    "    \"party_simplified\": \"Party\",\n",
    "}\n",
    "\n",
    "df_voting_raw.rename(columns=col_names_voting, inplace=True)"
   ]
  },
  {
   "cell_type": "code",
   "execution_count": 67,
   "metadata": {},
   "outputs": [],
   "source": [
    "df_voting_date = df_voting_raw.loc[df_voting_raw.Year == 2020]"
   ]
  },
  {
   "cell_type": "code",
   "execution_count": 68,
   "metadata": {},
   "outputs": [],
   "source": [
    "party_list = [\"REPUBLICAN\"]"
   ]
  },
  {
   "cell_type": "code",
   "execution_count": 69,
   "metadata": {},
   "outputs": [],
   "source": [
    "df_voting_party = df_voting_date.loc[df_voting_date.Party.isin(party_list)]"
   ]
  },
  {
   "cell_type": "code",
   "execution_count": 70,
   "metadata": {},
   "outputs": [],
   "source": [
    "df_voting_state = df_voting_party.loc[\n",
    "    df_voting_party.State.isin(state_list)\n",
    "].reset_index()"
   ]
  },
  {
   "cell_type": "code",
   "execution_count": 71,
   "metadata": {},
   "outputs": [],
   "source": [
    "df_voting_state[\"Vote_Pct\"] = (\n",
    "    df_voting_state[\"Candidate Votes\"].div(df_voting_state[\"Total Votes\"]).multiply(100)\n",
    ")"
   ]
  },
  {
   "cell_type": "code",
   "execution_count": 72,
   "metadata": {},
   "outputs": [],
   "source": [
    "df_final_votes = pd.concat([df_final, df_voting_state.Vote_Pct], axis=1)"
   ]
  },
  {
   "cell_type": "code",
   "execution_count": 73,
   "metadata": {},
   "outputs": [
    {
     "data": {
      "text/html": [
       "<div>\n",
       "<style scoped>\n",
       "    .dataframe tbody tr th:only-of-type {\n",
       "        vertical-align: middle;\n",
       "    }\n",
       "\n",
       "    .dataframe tbody tr th {\n",
       "        vertical-align: top;\n",
       "    }\n",
       "\n",
       "    .dataframe thead th {\n",
       "        text-align: right;\n",
       "    }\n",
       "</style>\n",
       "<table border=\"1\" class=\"dataframe\">\n",
       "  <thead>\n",
       "    <tr style=\"text-align: right;\">\n",
       "      <th></th>\n",
       "      <th>State</th>\n",
       "      <th>Booster</th>\n",
       "      <th>Population</th>\n",
       "      <th>Boosted_Pct</th>\n",
       "      <th>ID</th>\n",
       "      <th>Vote_Pct</th>\n",
       "    </tr>\n",
       "  </thead>\n",
       "  <tbody>\n",
       "    <tr>\n",
       "      <th>0</th>\n",
       "      <td>AK</td>\n",
       "      <td>220577.0</td>\n",
       "      <td>731545.0</td>\n",
       "      <td>30.152212</td>\n",
       "      <td>60</td>\n",
       "      <td>62.031643</td>\n",
       "    </tr>\n",
       "    <tr>\n",
       "      <th>1</th>\n",
       "      <td>AL</td>\n",
       "      <td>976959.0</td>\n",
       "      <td>4903185.0</td>\n",
       "      <td>19.924988</td>\n",
       "      <td>563</td>\n",
       "      <td>52.833143</td>\n",
       "    </tr>\n",
       "    <tr>\n",
       "      <th>2</th>\n",
       "      <td>AR</td>\n",
       "      <td>713343.0</td>\n",
       "      <td>3017804.0</td>\n",
       "      <td>23.637817</td>\n",
       "      <td>256</td>\n",
       "      <td>49.055981</td>\n",
       "    </tr>\n",
       "    <tr>\n",
       "      <th>3</th>\n",
       "      <td>AZ</td>\n",
       "      <td>2101781.0</td>\n",
       "      <td>7278717.0</td>\n",
       "      <td>28.875707</td>\n",
       "      <td>819</td>\n",
       "      <td>62.395730</td>\n",
       "    </tr>\n",
       "    <tr>\n",
       "      <th>4</th>\n",
       "      <td>CA</td>\n",
       "      <td>16352202.0</td>\n",
       "      <td>39512223.0</td>\n",
       "      <td>41.385173</td>\n",
       "      <td>2615</td>\n",
       "      <td>34.320724</td>\n",
       "    </tr>\n",
       "  </tbody>\n",
       "</table>\n",
       "</div>"
      ],
      "text/plain": [
       "  State     Booster  Population  Boosted_Pct    ID   Vote_Pct\n",
       "0    AK    220577.0    731545.0    30.152212    60  62.031643\n",
       "1    AL    976959.0   4903185.0    19.924988   563  52.833143\n",
       "2    AR    713343.0   3017804.0    23.637817   256  49.055981\n",
       "3    AZ   2101781.0   7278717.0    28.875707   819  62.395730\n",
       "4    CA  16352202.0  39512223.0    41.385173  2615  34.320724"
      ]
     },
     "execution_count": 73,
     "metadata": {},
     "output_type": "execute_result"
    }
   ],
   "source": [
    "df_final_votes.head()"
   ]
  },
  {
   "cell_type": "code",
   "execution_count": 74,
   "metadata": {},
   "outputs": [
    {
     "name": "stdout",
     "output_type": "stream",
     "text": [
      "Intercept    56.928092\n",
      "ID           -0.000959\n",
      "Vote_Pct     -0.470411\n",
      "dtype: float64\n",
      "                            OLS Regression Results                            \n",
      "==============================================================================\n",
      "Dep. Variable:            Boosted_Pct   R-squared:                       0.339\n",
      "Model:                            OLS   Adj. R-squared:                  0.310\n",
      "Method:                 Least Squares   F-statistic:                     11.80\n",
      "Date:                Wed, 26 Oct 2022   Prob (F-statistic):           7.31e-05\n",
      "Time:                        10:10:05   Log-Likelihood:                -162.40\n",
      "No. Observations:                  49   AIC:                             330.8\n",
      "Df Residuals:                      46   BIC:                             336.5\n",
      "Df Model:                           2                                         \n",
      "Covariance Type:            nonrobust                                         \n",
      "==============================================================================\n",
      "                 coef    std err          t      P>|t|      [0.025      0.975]\n",
      "------------------------------------------------------------------------------\n",
      "Intercept     56.9281      5.118     11.123      0.000      46.626      67.231\n",
      "ID            -0.0010      0.002     -0.636      0.528      -0.004       0.002\n",
      "Vote_Pct      -0.4704      0.097     -4.836      0.000      -0.666      -0.275\n",
      "==============================================================================\n",
      "Omnibus:                        1.492   Durbin-Watson:                   2.311\n",
      "Prob(Omnibus):                  0.474   Jarque-Bera (JB):                1.218\n",
      "Skew:                           0.383   Prob(JB):                        0.544\n",
      "Kurtosis:                       2.900   Cond. No.                     4.72e+03\n",
      "==============================================================================\n",
      "\n",
      "Notes:\n",
      "[1] Standard Errors assume that the covariance matrix of the errors is correctly specified.\n",
      "[2] The condition number is large, 4.72e+03. This might indicate that there are\n",
      "strong multicollinearity or other numerical problems.\n"
     ]
    }
   ],
   "source": [
    "import statsmodels.formula.api as sm\n",
    "\n",
    "result = sm.ols(formula=\"Boosted_Pct ~ ID + Vote_Pct\", data=df_final_votes).fit()\n",
    "print(result.params)\n",
    "\n",
    "print(result.summary())"
   ]
  },
  {
   "cell_type": "code",
   "execution_count": null,
   "metadata": {},
   "outputs": [],
   "source": []
  }
 ],
 "metadata": {
  "interpreter": {
   "hash": "6cbf73e685a52eac5e5c473d0f0fad89efb65967ab4e283e096e7b98d617b5a7"
  },
  "kernelspec": {
   "display_name": "Python 3.9.7 ('mph-thesis-ycUuKcbU-py3.9')",
   "language": "python",
   "name": "python3"
  },
  "language_info": {
   "codemirror_mode": {
    "name": "ipython",
    "version": 3
   },
   "file_extension": ".py",
   "mimetype": "text/x-python",
   "name": "python",
   "nbconvert_exporter": "python",
   "pygments_lexer": "ipython3",
   "version": "3.9.7"
  },
  "orig_nbformat": 4
 },
 "nbformat": 4,
 "nbformat_minor": 2
}
