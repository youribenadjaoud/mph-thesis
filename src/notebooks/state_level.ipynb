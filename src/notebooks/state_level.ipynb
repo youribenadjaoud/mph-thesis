{
 "cells": [
  {
   "cell_type": "markdown",
   "metadata": {},
   "source": [
    "## Flu and Variant-Specific Booster Uptake at the State Level\n",
    "\n",
    "In this notebook, we look at the avaialability of flu clinics and compare it COVID variant-specific booster uptake within each of the U.S. 50 states. "
   ]
  },
  {
   "cell_type": "code",
   "execution_count": 1,
   "metadata": {},
   "outputs": [],
   "source": [
    "import pandas as pd\n",
    "import numpy as np\n",
    "import seaborn as sns\n",
    "import matplotlib.pyplot as plt"
   ]
  },
  {
   "cell_type": "code",
   "execution_count": 2,
   "metadata": {},
   "outputs": [],
   "source": [
    "date_list = [\"11/02/2022\"]\n",
    "\n",
    "state_list = [\n",
    "    \"AL\",\n",
    "    \"AK\",\n",
    "    \"AZ\",\n",
    "    \"AR\",\n",
    "    \"CA\",\n",
    "    \"CO\",\n",
    "    \"CT\",\n",
    "    \"DE\",\n",
    "    \"FL\",\n",
    "    \"GA\",\n",
    "    \"HI\",\n",
    "    \"ID\",\n",
    "    \"IL\",\n",
    "    \"IN\",\n",
    "    \"IA\",\n",
    "    \"KS\",\n",
    "    \"KY\",\n",
    "    \"LA\",\n",
    "    \"ME\",\n",
    "    \"MD\",\n",
    "    \"MA\",\n",
    "    \"MI\",\n",
    "    \"MN\",\n",
    "    \"MS\",\n",
    "    \"MO\",\n",
    "    \"MT\",\n",
    "    \"NE\",\n",
    "    \"NV\",\n",
    "    \"NH\",\n",
    "    \"NJ\",\n",
    "    \"NM\",\n",
    "    \"NY\",\n",
    "    \"NC\",\n",
    "    \"ND\",\n",
    "    \"OH\",\n",
    "    \"OK\",\n",
    "    \"OR\",\n",
    "    \"PA\",\n",
    "    \"RI\",\n",
    "    \"SC\",\n",
    "    \"SD\",\n",
    "    \"TN\",\n",
    "    \"TX\",\n",
    "    \"UT\",\n",
    "    \"VT\",\n",
    "    \"VA\",\n",
    "    \"WA\",\n",
    "    \"WV\",\n",
    "    \"WI\",\n",
    "    \"WY\",\n",
    "]"
   ]
  },
  {
   "cell_type": "markdown",
   "metadata": {},
   "source": [
    "#### Cleaning and filtering COVID vaccine uptake dataset"
   ]
  },
  {
   "cell_type": "code",
   "execution_count": 3,
   "metadata": {},
   "outputs": [],
   "source": [
    "booster_raw = pd.read_csv(\n",
    "    \"../../data/cdc/COVID-19_Vaccinations_in_the_United_States_Jurisdiction.csv\"\n",
    ")\n",
    "population_raw = pd.read_csv(\"../../data/cdc/state_population.csv\")"
   ]
  },
  {
   "cell_type": "code",
   "execution_count": 4,
   "metadata": {},
   "outputs": [],
   "source": [
    "booster_data = booster_raw.loc[\n",
    "    :, [\"Date\", \"Location\", \"Series_Complete_5Plus\", \"Bivalent_Booster_5Plus\"]\n",
    "]"
   ]
  },
  {
   "cell_type": "code",
   "execution_count": 5,
   "metadata": {},
   "outputs": [],
   "source": [
    "booster_filter = booster_data.loc[\n",
    "    booster_data.Date.isin(date_list) & booster_data.Location.isin(state_list)\n",
    "].reset_index(drop=True)"
   ]
  },
  {
   "cell_type": "code",
   "execution_count": 6,
   "metadata": {},
   "outputs": [],
   "source": [
    "booster_final = pd.DataFrame.merge(booster_filter, population_raw, on=\"Location\")"
   ]
  },
  {
   "cell_type": "code",
   "execution_count": 8,
   "metadata": {},
   "outputs": [],
   "source": [
    "booster_final[\"Elig_Pct\"] = (\n",
    "    booster_final.Bivalent_Booster_5Plus / booster_final.Series_Complete_5Plus\n",
    ") * 100"
   ]
  },
  {
   "cell_type": "markdown",
   "metadata": {},
   "source": [
    "#### Cleaning and filtering flu locations dataset"
   ]
  },
  {
   "cell_type": "code",
   "execution_count": 10,
   "metadata": {},
   "outputs": [],
   "source": [
    "locations_raw = pd.read_csv(\n",
    "    \"../../data/cdc/Vaccines.gov__Flu_vaccinating_provider_locations.csv\",\n",
    "    low_memory=False,\n",
    ")"
   ]
  },
  {
   "cell_type": "code",
   "execution_count": 11,
   "metadata": {},
   "outputs": [],
   "source": [
    "col_names_clinics = {\"provider_location_guid\": \"ID\", \"loc_admin_state\": \"Location\"}\n",
    "\n",
    "locations_raw.rename(columns=col_names_clinics, inplace=True)"
   ]
  },
  {
   "cell_type": "code",
   "execution_count": 12,
   "metadata": {},
   "outputs": [],
   "source": [
    "locations_data = locations_raw.loc[:, [\"ID\", \"Location\"]]"
   ]
  },
  {
   "cell_type": "code",
   "execution_count": 13,
   "metadata": {},
   "outputs": [],
   "source": [
    "locations_data = locations_data.drop_duplicates(subset=[\"ID\"])"
   ]
  },
  {
   "cell_type": "code",
   "execution_count": 14,
   "metadata": {},
   "outputs": [],
   "source": [
    "locations_count = locations_data.groupby(\"Location\", as_index=False).agg(\n",
    "    {\"ID\": \"count\"}\n",
    ")"
   ]
  },
  {
   "cell_type": "markdown",
   "metadata": {},
   "source": [
    "#### Cleaning and filtering political data"
   ]
  },
  {
   "cell_type": "code",
   "execution_count": 15,
   "metadata": {},
   "outputs": [],
   "source": [
    "voting_raw = pd.read_csv(\"../../data/politics/1976-2020-president.csv\")"
   ]
  },
  {
   "cell_type": "code",
   "execution_count": 16,
   "metadata": {},
   "outputs": [],
   "source": [
    "year_list = [2020]\n",
    "party_list = [\"REPUBLICAN\"]"
   ]
  },
  {
   "cell_type": "code",
   "execution_count": 17,
   "metadata": {},
   "outputs": [],
   "source": [
    "col_names_voting = {\n",
    "    \"year\": \"Year\",\n",
    "    \"state_po\": \"Location\",\n",
    "    \"candidatevotes\": \"Candidate_Votes\",\n",
    "    \"totalvotes\": \"Total_Votes\",\n",
    "    \"party_simplified\": \"Party\",\n",
    "}\n",
    "\n",
    "voting_raw.rename(columns=col_names_voting, inplace=True)"
   ]
  },
  {
   "cell_type": "code",
   "execution_count": 19,
   "metadata": {},
   "outputs": [],
   "source": [
    "voting_data = voting_raw.loc[\n",
    "    :, [\"Year\", \"Location\", \"Candidate_Votes\", \"Total_Votes\", \"Party\"]\n",
    "]"
   ]
  },
  {
   "cell_type": "code",
   "execution_count": 20,
   "metadata": {},
   "outputs": [],
   "source": [
    "voting_final = voting_data.loc[\n",
    "    voting_data.Year.isin(year_list) & voting_data.Party.isin(party_list)\n",
    "]"
   ]
  },
  {
   "cell_type": "code",
   "execution_count": 21,
   "metadata": {},
   "outputs": [
    {
     "name": "stderr",
     "output_type": "stream",
     "text": [
      "/var/folders/z9/gdw88pxx7pnfg5bk987tzgqh0000gn/T/ipykernel_36860/470360614.py:1: SettingWithCopyWarning: \n",
      "A value is trying to be set on a copy of a slice from a DataFrame.\n",
      "Try using .loc[row_indexer,col_indexer] = value instead\n",
      "\n",
      "See the caveats in the documentation: https://pandas.pydata.org/pandas-docs/stable/user_guide/indexing.html#returning-a-view-versus-a-copy\n",
      "  voting_final[\"Vote_Pct\"] = (voting_final.Candidate_Votes / voting_final.Total_Votes) * 100\n"
     ]
    }
   ],
   "source": [
    "voting_final[\"Vote_Pct\"] = (\n",
    "    voting_final.Candidate_Votes / voting_final.Total_Votes\n",
    ") * 100"
   ]
  },
  {
   "cell_type": "markdown",
   "metadata": {},
   "source": [
    "#### Analysis"
   ]
  },
  {
   "cell_type": "code",
   "execution_count": 23,
   "metadata": {},
   "outputs": [],
   "source": [
    "df_final = pd.DataFrame.merge(booster_final, locations_count, on=\"Location\")"
   ]
  },
  {
   "cell_type": "code",
   "execution_count": 24,
   "metadata": {},
   "outputs": [],
   "source": [
    "df_final[\"Clinics_100K\"] = (df_final.ID / df_final.Population) * 100000"
   ]
  },
  {
   "cell_type": "code",
   "execution_count": 25,
   "metadata": {},
   "outputs": [],
   "source": [
    "df_final_pol = pd.DataFrame.merge(df_final, voting_final, on=\"Location\")"
   ]
  },
  {
   "cell_type": "code",
   "execution_count": 29,
   "metadata": {},
   "outputs": [
    {
     "data": {
      "text/plain": [
       "[Text(0.5, 1.0, 'Relationship between number of flu clinics and booster uptake')]"
      ]
     },
     "execution_count": 29,
     "metadata": {},
     "output_type": "execute_result"
    },
    {
     "data": {
      "image/png": "[encoded data removed]",
      "text/plain": [
       "<Figure size 1000x500 with 1 Axes>"
      ]
     },
     "metadata": {},
     "output_type": "display_data"
    }
   ],
   "source": [
    "fig, ax = plt.subplots(figsize=(10, 5), dpi=100)\n",
    "\n",
    "sns.regplot(data=df_final_pol, x=\"Clinics_100K\", y=\"Elig_Pct\", y_partial=\"Vote_Pct\")\n",
    "\n",
    "ax.set(\n",
    "    xlabel=\"Number of flu clinics per 100K\",\n",
    "    ylabel=\"Percentage of those eligible with booster\",\n",
    ")\n",
    "ax.set(title=\"Relationship between number of flu clinics and booster uptake\")"
   ]
  },
  {
   "cell_type": "code",
   "execution_count": null,
   "metadata": {},
   "outputs": [],
   "source": []
  }
 ],
 "metadata": {
  "kernelspec": {
   "display_name": "Python 3.9.7 ('mph-thesis-ycUuKcbU-py3.9')",
   "language": "python",
   "name": "python3"
  },
  "language_info": {
   "codemirror_mode": {
    "name": "ipython",
    "version": 3
   },
   "file_extension": ".py",
   "mimetype": "text/x-python",
   "name": "python",
   "nbconvert_exporter": "python",
   "pygments_lexer": "ipython3",
   "version": "3.9.7"
  },
  "orig_nbformat": 4,
  "vscode": {
   "interpreter": {
    "hash": "6cbf73e685a52eac5e5c473d0f0fad89efb65967ab4e283e096e7b98d617b5a7"
   }
  }
 },
 "nbformat": 4,
 "nbformat_minor": 2
}
